{
 "metadata": {
  "language_info": {
   "codemirror_mode": {
    "name": "ipython",
    "version": 3
   },
   "file_extension": ".py",
   "mimetype": "text/x-python",
   "name": "python",
   "nbconvert_exporter": "python",
   "pygments_lexer": "ipython3",
   "version": 3
  },
  "orig_nbformat": 2
 },
 "nbformat": 4,
 "nbformat_minor": 2,
 "cells": [
  {
   "cell_type": "code",
   "execution_count": null,
   "metadata": {},
   "outputs": [],
   "source": [
    "# token to index dictionary is already in the tfidf model \n",
    "token2idx = tfidf_vectorizer.vocabulary_ \n",
    "# inverse of the dictionary \n",
    "idx2token = {v: k for k, v in token2idx.items()} \n",
    "  \n",
    "# clf.coef_ yields matrix with classes as rows and tokens/features as columns \n",
    "# we don't have access to anything else, so we retrieve tokens weights from the inverse of this matrix \n",
    "idx2weight = {i: weight for i, weight in enumerate(clf.coef_.T)} \n",
    "#weight : vector of size 5  \n",
    " \n",
    "top_n = 6 \n",
    "  \n",
    "# argsort on the clf.coef_ sorts each row (axis=1) increasingly and yields indices instead of the actual values \n",
    "argsorted_cls = np.argsort(clf.coef_, axis=1) \n",
    "# argsorted_cls: matrix of size C X D (C: number of classes, D: number of features) \n",
    "  \n",
    "# we loop over the obtained, sorted indices, keeping the index number (representing the class index) \n",
    "for class_index, sorted_tokens in enumerate(argsorted_cls): \n",
    "    # using idx2target we can obtain classes actual name \n",
    "    print(f\"Class {idx2token[class_index]} ({class_index}) and it's top {top_n} tokens:\")\n",
    "     \n",
    "    # we need to inverse the obtained indices from the argsorted_cls, to make it decreasing \n",
    "    # we are interested in top 6 results \n",
    "    for token in sorted_tokens[::-1][:top_n]:  \n",
    "        # we can use idx2weight to obtain back the token's weight \n",
    "        # from this we can check and verify both: \n",
    "        #   1) tokens are really ranked from top 1 to top 6 \n",
    "        #   2) among classes, the highest value is being assigned to the class \n",
    "        #      to which the token has been located at as the top one \n",
    "        reformatted_weights = ', '.join([f\"{x:.4f}\" for x in idx2weight[token].tolist()]) \n",
    "        # idx2token allows us to obtain the token's actual name \n",
    "        print(f\"Token {idx2token[token]} ({token}) has a weight:\\n\\t[{reformatted_weights}]\") \n",
    "    print() "
   ]
  }
 ]
}