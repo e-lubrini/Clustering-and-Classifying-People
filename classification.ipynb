{
 "metadata": {
  "language_info": {
   "codemirror_mode": {
    "name": "ipython",
    "version": 3
   },
   "file_extension": ".py",
   "mimetype": "text/x-python",
   "name": "python",
   "nbconvert_exporter": "python",
   "pygments_lexer": "ipython3",
   "version": "3.9.2-final"
  },
  "orig_nbformat": 2,
  "kernelspec": {
   "name": "python39264bit9c9f5a36040046ed881dc394c3079f56",
   "display_name": "Python 3.9.2 64-bit"
  }
 },
 "nbformat": 4,
 "nbformat_minor": 2,
 "cells": [
  {
   "source": [
    "# Classification\n",
    "Learn a classifier and check how well it can predict the category and subcategory a person in your dataset belongs to."
   ],
   "cell_type": "markdown",
   "metadata": {}
  },
  {
   "cell_type": "code",
   "execution_count": 377,
   "metadata": {},
   "outputs": [],
   "source": [
    "import pandas as pd\n",
    "import numpy as np\n",
    "from sklearn.cluster import MiniBatchKMeans\n",
    "from sklearn.feature_extraction.text import TfidfVectorizer\n",
    "from sklearn.decomposition import PCA\n",
    "import matplotlib.pyplot as plt\n",
    "from sklearn.datasets import load_files\n",
    "from sklearn.utils import shuffle\n",
    "from sklearn.model_selection import train_test_split\n",
    "\n",
    "import nltk \n",
    "from nltk import word_tokenize \n",
    "from nltk.corpus import stopwords\n",
    "\n",
    "from sklearn.linear_model import Perceptron \n",
    "from sklearn.metrics import accuracy_score\n",
    "\n",
    "from itertools import chain\n",
    "\n",
    "from sklearn.metrics import confusion_matrix, classification_report"
   ]
  },
  {
   "cell_type": "code",
   "execution_count": 378,
   "metadata": {},
   "outputs": [
    {
     "output_type": "execute_result",
     "data": {
      "text/plain": [
       "              person                                        description  \\\n",
       "0    Kichka_Bodurova                        Bulgarian pop-folk musician   \n",
       "1      Taras_Topolya                                   Ukrainian singer   \n",
       "2     Louis_Graveure  English actor and baritone singer known as \"Th...   \n",
       "3  Philippe_Robrecht                       Belgian guitarist and singer   \n",
       "4      Moira_Lambert                                     British singer   \n",
       "\n",
       "                                       p_description  \\\n",
       "0               ['bulgarian', 'popfolk', 'musician']   \n",
       "1                            ['ukrainian', 'singer']   \n",
       "2  ['english', 'actor', 'baritone', 'singer', 'kn...   \n",
       "3                 ['belgian', 'guitarist', 'singer']   \n",
       "4                              ['british', 'singer']   \n",
       "\n",
       "                                             content  \\\n",
       "0  Big Brother: All-Stars, also known as Big Brot...   \n",
       "1  EdCamp Ukraine (Ukrainian: ЕдКемп Україна) is ...   \n",
       "2  The Accusing Song (German: Ein Lied klagt an) ...   \n",
       "3  Jacques Romain Georges Brel (French: [ʒɑk ʁɔmɛ...   \n",
       "4  Mary Rose Byrne (born 24 July 1979) is an Aust...   \n",
       "\n",
       "                                           p_content label_2 label_6  \n",
       "0  [['big', 'brother', 'allstars', 'also', 'known...       A  singer  \n",
       "1  [['edcamp', 'ukraine', 'ukrainian', 'едкемп', ...       A  singer  \n",
       "2  [['accusing', 'song', 'german', 'ein', 'lied',...       A  singer  \n",
       "3  [['jacques', 'romain', 'georges', 'brel', 'fre...       A  singer  \n",
       "4  [['mary', 'rose', 'byrne', 'born', '24', 'july...       A  singer  "
      ],
      "text/html": "<div>\n<style scoped>\n    .dataframe tbody tr th:only-of-type {\n        vertical-align: middle;\n    }\n\n    .dataframe tbody tr th {\n        vertical-align: top;\n    }\n\n    .dataframe thead th {\n        text-align: right;\n    }\n</style>\n<table border=\"1\" class=\"dataframe\">\n  <thead>\n    <tr style=\"text-align: right;\">\n      <th></th>\n      <th>person</th>\n      <th>description</th>\n      <th>p_description</th>\n      <th>content</th>\n      <th>p_content</th>\n      <th>label_2</th>\n      <th>label_6</th>\n    </tr>\n  </thead>\n  <tbody>\n    <tr>\n      <th>0</th>\n      <td>Kichka_Bodurova</td>\n      <td>Bulgarian pop-folk musician</td>\n      <td>['bulgarian', 'popfolk', 'musician']</td>\n      <td>Big Brother: All-Stars, also known as Big Brot...</td>\n      <td>[['big', 'brother', 'allstars', 'also', 'known...</td>\n      <td>A</td>\n      <td>singer</td>\n    </tr>\n    <tr>\n      <th>1</th>\n      <td>Taras_Topolya</td>\n      <td>Ukrainian singer</td>\n      <td>['ukrainian', 'singer']</td>\n      <td>EdCamp Ukraine (Ukrainian: ЕдКемп Україна) is ...</td>\n      <td>[['edcamp', 'ukraine', 'ukrainian', 'едкемп', ...</td>\n      <td>A</td>\n      <td>singer</td>\n    </tr>\n    <tr>\n      <th>2</th>\n      <td>Louis_Graveure</td>\n      <td>English actor and baritone singer known as \"Th...</td>\n      <td>['english', 'actor', 'baritone', 'singer', 'kn...</td>\n      <td>The Accusing Song (German: Ein Lied klagt an) ...</td>\n      <td>[['accusing', 'song', 'german', 'ein', 'lied',...</td>\n      <td>A</td>\n      <td>singer</td>\n    </tr>\n    <tr>\n      <th>3</th>\n      <td>Philippe_Robrecht</td>\n      <td>Belgian guitarist and singer</td>\n      <td>['belgian', 'guitarist', 'singer']</td>\n      <td>Jacques Romain Georges Brel (French: [ʒɑk ʁɔmɛ...</td>\n      <td>[['jacques', 'romain', 'georges', 'brel', 'fre...</td>\n      <td>A</td>\n      <td>singer</td>\n    </tr>\n    <tr>\n      <th>4</th>\n      <td>Moira_Lambert</td>\n      <td>British singer</td>\n      <td>['british', 'singer']</td>\n      <td>Mary Rose Byrne (born 24 July 1979) is an Aust...</td>\n      <td>[['mary', 'rose', 'byrne', 'born', '24', 'july...</td>\n      <td>A</td>\n      <td>singer</td>\n    </tr>\n  </tbody>\n</table>\n</div>"
     },
     "metadata": {},
     "execution_count": 378
    }
   ],
   "source": [
    "with open('data/data.csv', 'r') as f:\n",
    "    df = pd.read_csv(f, index_col=0)\n",
    "df.head()"
   ]
  },
  {
   "cell_type": "code",
   "execution_count": 379,
   "metadata": {},
   "outputs": [
    {
     "output_type": "execute_result",
     "data": {
      "text/plain": [
       "Empty DataFrame\n",
       "Columns: [person, description, p_description, content, p_content, label_2, label_6]\n",
       "Index: []"
      ],
      "text/html": "<div>\n<style scoped>\n    .dataframe tbody tr th:only-of-type {\n        vertical-align: middle;\n    }\n\n    .dataframe tbody tr th {\n        vertical-align: top;\n    }\n\n    .dataframe thead th {\n        text-align: right;\n    }\n</style>\n<table border=\"1\" class=\"dataframe\">\n  <thead>\n    <tr style=\"text-align: right;\">\n      <th></th>\n      <th>person</th>\n      <th>description</th>\n      <th>p_description</th>\n      <th>content</th>\n      <th>p_content</th>\n      <th>label_2</th>\n      <th>label_6</th>\n    </tr>\n  </thead>\n  <tbody>\n  </tbody>\n</table>\n</div>"
     },
     "metadata": {},
     "execution_count": 379
    }
   ],
   "source": [
    "'''# We print the different category names and labels. \n",
    "print(set(data['label'])) \n",
    "categories = pd.DataFrame(list(data['label']), columns=['label'])\n",
    "display(categories) \n",
    " \n",
    "# Print to see the articles associated to given label values. \n",
    "df[df['label'] == 0].head() \n",
    "df[df['label'] == 1].head()\n",
    "'''\n",
    "df[df['label_6'] == 1].head() "
   ]
  },
  {
   "cell_type": "code",
   "execution_count": 380,
   "metadata": {
    "tags": []
   },
   "outputs": [],
   "source": [
    "y_2 = df.label_2\n",
    "y_6 = df.label_6\n",
    "\n",
    "eva = list(map(eval, df.p_description))\n",
    "X_d = list(map(lambda x: ' '.join(x), eva))\n",
    "\n",
    "eva = list(map(eval, df.p_content))\n",
    "flattened_eva = list(map(lambda x: list(chain(*x)), eva))\n",
    "X_c = list(map(lambda x: ' '.join(x), flattened_eva))"
   ]
  },
  {
   "cell_type": "code",
   "execution_count": 387,
   "metadata": {},
   "outputs": [],
   "source": [
    "# Shuffle and split the data into training and testing subsets\n",
    "X_train, X_test, y_train, y_test = train_test_split(X_d,\n",
    "                                                    y_6,\n",
    "                                                    test_size=0.3,\n",
    "                                                    random_state=42,\n",
    "                                                    stratify=y_6) "
   ]
  },
  {
   "cell_type": "code",
   "execution_count": 388,
   "metadata": {},
   "outputs": [
    {
     "output_type": "stream",
     "name": "stdout",
     "text": [
      "(126, 177)\n(54, 177)\nVocabulary size: 177\n"
     ]
    }
   ],
   "source": [
    "# Using TFIDF vectorizer to convert convert words to Vector Space \n",
    "tfidf_vectorizer = TfidfVectorizer(max_features=8000,  \n",
    "                                   use_idf=True,  \n",
    "                                   stop_words='english',  \n",
    "                                   tokenizer=nltk.word_tokenize, \n",
    "                                   #ngram_range=(1, 3)\n",
    "                                   ) \n",
    "  \n",
    "# Fit the vectorizer to train and test data \n",
    "X_train_tf = tfidf_vectorizer.fit_transform(X_train) \n",
    "X_test_tf = tfidf_vectorizer.transform(X_test) \n",
    "  \n",
    "# Print the shape of the matrices X_train and X_test and the size of the vocabulary \n",
    "print(X_train_tf.shape) \n",
    "print(X_test_tf.shape) \n",
    "print( \"Vocabulary size:\", len(tfidf_vectorizer.vocabulary_) )"
   ]
  },
  {
   "cell_type": "code",
   "execution_count": 389,
   "metadata": {
    "tags": []
   },
   "outputs": [
    {
     "output_type": "stream",
     "name": "stdout",
     "text": [
      "['10', '10801138', '14501480', '15781631', '16271703', '18141879', '18481922', '18621934', '18621947', '1866c1944', '18771962', '18821938', '1887–1972', '18881966', '18891970', '18931955', '18931971', '18971972', '18971978', '1900', '19041984', '19182006', '19212019', '19242002', '19282018', '19302009', '19402007', '1982', '2', '45901', '81', 'academic', 'active', 'actor', 'actress', 'ad', 'american', 'andalusian', 'anerican', 'arab', 'archeologist', 'architect', 'armenian', 'artist', 'author', 'b1931', 'b1963', 'ballad', 'baritone', 'belgian', 'berkeley', 'born', 'brazilian', 'british', 'bulgarian', 'california', 'canadian', 'castaway', 'cbdb', 'computer', 'consul', 'contributing', 'critic', 'czech', 'czechoslovak', 'dartmouth', 'devon', 'died', 'director', 'discussion', 'dutch', 'dynasty', 'editor', 'el', 'emperor', 'england', 'english', 'era', 'family', 'farmer', 'father', 'fiction', 'figure', 'film', 'finnish', 'football', 'french', 'fusion', 'german', 'germanamerican', 'greco', 'guitarist', 'hassidic', 'historian', 'hungarian', 'international', 'islam', 'islington', 'italian', 'ivorian', 'japanese', 'known', 'lawyer', 'london', 'man', 'manitoba', 'mathematician', 'mathematics', 'mexican', 'music', 'musician', 'mystery', 'northern', 'norwegian', 'novelist', 'official', 'ohio', 'painter', 'painting', 'pakistan', 'participated', 'person', 'phd', 'philosopher', 'physicist', 'physics', 'player', 'poet', 'polish', 'political', 'politician', 'polymath', 'priest', 'principles', 'producer', 'professor', 'qi', 'qieyun', 'rabbi', 'recording', 'reggae', 'rijksmuseum', 'roman', 'rower', 'russian', 'sailor', 'sammarinese', 'school', 'scientist', 'sculptor', 'september', 'set', 'short', 'singer', 'singers', 'singersongwriter', 'son', 'song', 'soviet', 'spanish', 'story', 'sui', 'swedish', 'swiss', 'teacher', 'television', 'theorist', 'traditional', 'trajan', 'turkish', 'university', 'uruguayan', 'uzbek', 'victorian', 'writer', 'writing', 'zhou']\n"
     ]
    }
   ],
   "source": [
    "features = tfidf_vectorizer.get_feature_names() \n",
    "print(features)  "
   ]
  },
  {
   "cell_type": "code",
   "execution_count": 390,
   "metadata": {},
   "outputs": [],
   "source": [
    "# Create a Perceptron object \n",
    "clf = Perceptron(penalty='l1',  alpha=0.001, random_state=0) \n",
    "  \n",
    "# Train the model on the training data \n",
    "clf.fit(X_train_tf, y_train) \n",
    "\n",
    "# Test the model on the test data \n",
    "predictions = clf.predict(X_test_tf) \n",
    "  "
   ]
  },
  {
   "source": [
    "## Part 1\n",
    "define a function which outputs accuracy, a confusion matrix, precision, recall and F1 for the results of your classification (when classifying into categories and when classifying into subcategories)"
   ],
   "cell_type": "markdown",
   "metadata": {}
  },
  {
   "cell_type": "code",
   "execution_count": 391,
   "metadata": {},
   "outputs": [],
   "source": [
    "def compute_scores(expected, predicted):\n",
    "    '''\n",
    "    # Print out the expected values and the predictions \n",
    "    print('Expected Values:', list(expected)) \n",
    "    print('Predictions:', list(predicted)) \n",
    "    '''\n",
    "    \n",
    "    # Print confusion matrix\n",
    "    conf_matrix = confusion_matrix(expected, predicted)\n",
    "\n",
    "    # print precision, recall, F1\n",
    "    report = classification_report(expected, predicted)\n",
    "\n",
    "    return conf_matrix, report"
   ]
  },
  {
   "cell_type": "code",
   "execution_count": 392,
   "metadata": {},
   "outputs": [
    {
     "output_type": "stream",
     "name": "stdout",
     "text": [
      "[[8 0 0 1 0 0]\n [0 5 0 4 0 0]\n [1 0 6 2 0 0]\n [0 0 0 9 0 0]\n [0 0 0 0 9 0]\n [0 0 0 3 0 6]]                precision    recall  f1-score   support\n\n    architect       0.89      0.89      0.89         9\nmathematician       1.00      0.56      0.71         9\n      painter       1.00      0.67      0.80         9\n   politician       0.47      1.00      0.64         9\n       singer       1.00      1.00      1.00         9\n       writer       1.00      0.67      0.80         9\n\n     accuracy                           0.80        54\n    macro avg       0.89      0.80      0.81        54\n weighted avg       0.89      0.80      0.81        54\n\n"
     ]
    }
   ],
   "source": [
    "conf_matrix, report = compute_scores(expected=y_test, predicted=predictions)\n",
    "print(conf_matrix, report)"
   ]
  },
  {
   "source": [
    "## Part 2\n",
    "define a function which outputs a visualisation of the accuracy of your classifier per category and per subcategories"
   ],
   "cell_type": "markdown",
   "metadata": {}
  },
  {
   "cell_type": "code",
   "execution_count": null,
   "metadata": {},
   "outputs": [],
   "source": [
    "# ∙ 2 barcharts: AZ, 6cat\n",
    "# ∙ sns.heatmap(conf_matrix)"
   ]
  }
 ]
}