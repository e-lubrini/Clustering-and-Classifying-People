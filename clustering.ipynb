{
 "metadata": {
  "language_info": {
   "codemirror_mode": {
    "name": "ipython",
    "version": 3
   },
   "file_extension": ".py",
   "mimetype": "text/x-python",
   "name": "python",
   "nbconvert_exporter": "python",
   "pygments_lexer": "ipython3",
   "version": "3.9.2-final"
  },
  "orig_nbformat": 2,
  "kernelspec": {
   "name": "python39264bit9c9f5a36040046ed881dc394c3079f56",
   "display_name": "Python 3.9.2 64-bit"
  }
 },
 "nbformat": 4,
 "nbformat_minor": 2,
 "cells": [
  {
   "source": [
    "# Clustering\n",
    "* use the collected data (text and wikidata descriptions) to automatically cluster persons\n",
    "    * first, using 2 clusters\n",
    "    * second, using 6 clusters\n",
    "\n",
    "* compare the results obtained when using\n",
    "    * three ways of representing text (tokens, token\n",
    "    * frequency and tf-idf) and 2 vs. 6 clusters."
   ],
   "cell_type": "markdown",
   "metadata": {}
  },
  {
   "cell_type": "code",
   "execution_count": 71,
   "metadata": {},
   "outputs": [],
   "source": [
    "import csv\n",
    "import pandas as pd\n",
    "from sklearn.feature_extraction.text import TfidfVectorizer, CountVectorizer\n",
    "from sklearn.preprocessing import OneHotEncoder\n",
    "from nltk import word_tokenize\n",
    "from sklearn.cluster import KMeans\n",
    "from sklearn import metrics \n",
    "import numpy as np\n",
    "from itertools import chain\n",
    "\n",
    "# Visualisation\n",
    "import os  # for os.path.basename\n",
    "\n",
    "import matplotlib.pyplot as plt\n",
    "import matplotlib as mpl\n",
    "from sklearn.metrics.pairwise import cosine_similarity\n",
    "from sklearn.manifold import MDS\n",
    "from scipy.cluster.hierarchy import ward, dendrogram"
   ]
  },
  {
   "cell_type": "code",
   "execution_count": 72,
   "metadata": {},
   "outputs": [
    {
     "output_type": "execute_result",
     "data": {
      "text/plain": [
       "              person                                        description  \\\n",
       "0    Kichka_Bodurova                        Bulgarian pop-folk musician   \n",
       "1      Taras_Topolya                                   Ukrainian singer   \n",
       "2     Louis_Graveure  English actor and baritone singer known as \"Th...   \n",
       "3  Philippe_Robrecht                       Belgian guitarist and singer   \n",
       "4      Moira_Lambert                                     British singer   \n",
       "\n",
       "                                       p_description  \\\n",
       "0               ['bulgarian', 'popfolk', 'musician']   \n",
       "1                            ['ukrainian', 'singer']   \n",
       "2  ['english', 'actor', 'baritone', 'singer', 'kn...   \n",
       "3                 ['belgian', 'guitarist', 'singer']   \n",
       "4                              ['british', 'singer']   \n",
       "\n",
       "                                             content  \\\n",
       "0  Big Brother: All-Stars, also known as Big Brot...   \n",
       "1  EdCamp Ukraine (Ukrainian: ЕдКемп Україна) is ...   \n",
       "2  The Accusing Song (German: Ein Lied klagt an) ...   \n",
       "3  Jacques Romain Georges Brel (French: [ʒɑk ʁɔmɛ...   \n",
       "4  Mary Rose Byrne (born 24 July 1979) is an Aust...   \n",
       "\n",
       "                                           p_content label_2 label_6  \n",
       "0  [['big', 'brother', 'allstars', 'also', 'known...       A  singer  \n",
       "1  [['edcamp', 'ukraine', 'ukrainian', 'едкемп', ...       A  singer  \n",
       "2  [['accusing', 'song', 'german', 'ein', 'lied',...       A  singer  \n",
       "3  [['jacques', 'romain', 'georges', 'brel', 'fre...       A  singer  \n",
       "4  [['mary', 'rose', 'byrne', 'born', '24', 'july...       A  singer  "
      ],
      "text/html": "<div>\n<style scoped>\n    .dataframe tbody tr th:only-of-type {\n        vertical-align: middle;\n    }\n\n    .dataframe tbody tr th {\n        vertical-align: top;\n    }\n\n    .dataframe thead th {\n        text-align: right;\n    }\n</style>\n<table border=\"1\" class=\"dataframe\">\n  <thead>\n    <tr style=\"text-align: right;\">\n      <th></th>\n      <th>person</th>\n      <th>description</th>\n      <th>p_description</th>\n      <th>content</th>\n      <th>p_content</th>\n      <th>label_2</th>\n      <th>label_6</th>\n    </tr>\n  </thead>\n  <tbody>\n    <tr>\n      <th>0</th>\n      <td>Kichka_Bodurova</td>\n      <td>Bulgarian pop-folk musician</td>\n      <td>['bulgarian', 'popfolk', 'musician']</td>\n      <td>Big Brother: All-Stars, also known as Big Brot...</td>\n      <td>[['big', 'brother', 'allstars', 'also', 'known...</td>\n      <td>A</td>\n      <td>singer</td>\n    </tr>\n    <tr>\n      <th>1</th>\n      <td>Taras_Topolya</td>\n      <td>Ukrainian singer</td>\n      <td>['ukrainian', 'singer']</td>\n      <td>EdCamp Ukraine (Ukrainian: ЕдКемп Україна) is ...</td>\n      <td>[['edcamp', 'ukraine', 'ukrainian', 'едкемп', ...</td>\n      <td>A</td>\n      <td>singer</td>\n    </tr>\n    <tr>\n      <th>2</th>\n      <td>Louis_Graveure</td>\n      <td>English actor and baritone singer known as \"Th...</td>\n      <td>['english', 'actor', 'baritone', 'singer', 'kn...</td>\n      <td>The Accusing Song (German: Ein Lied klagt an) ...</td>\n      <td>[['accusing', 'song', 'german', 'ein', 'lied',...</td>\n      <td>A</td>\n      <td>singer</td>\n    </tr>\n    <tr>\n      <th>3</th>\n      <td>Philippe_Robrecht</td>\n      <td>Belgian guitarist and singer</td>\n      <td>['belgian', 'guitarist', 'singer']</td>\n      <td>Jacques Romain Georges Brel (French: [ʒɑk ʁɔmɛ...</td>\n      <td>[['jacques', 'romain', 'georges', 'brel', 'fre...</td>\n      <td>A</td>\n      <td>singer</td>\n    </tr>\n    <tr>\n      <th>4</th>\n      <td>Moira_Lambert</td>\n      <td>British singer</td>\n      <td>['british', 'singer']</td>\n      <td>Mary Rose Byrne (born 24 July 1979) is an Aust...</td>\n      <td>[['mary', 'rose', 'byrne', 'born', '24', 'july...</td>\n      <td>A</td>\n      <td>singer</td>\n    </tr>\n  </tbody>\n</table>\n</div>"
     },
     "metadata": {},
     "execution_count": 72
    }
   ],
   "source": [
    "with open('data/data.csv', 'r') as f:\n",
    "    df = pd.read_csv(f, index_col=0)\n",
    "df.head()"
   ]
  },
  {
   "cell_type": "code",
   "execution_count": 73,
   "metadata": {},
   "outputs": [
    {
     "output_type": "execute_result",
     "data": {
      "text/plain": [
       "['bulgarian', 'popfolk', 'musician']"
      ]
     },
     "metadata": {},
     "execution_count": 73
    }
   ],
   "source": [
    "eval(df.p_description[0])"
   ]
  },
  {
   "cell_type": "code",
   "execution_count": 74,
   "metadata": {},
   "outputs": [],
   "source": [
    "# labels\n",
    "y_2 = df.label_2\n",
    "y_6 = df.label_6\n",
    "\n",
    "\n",
    "#data\n",
    "eva = list(map(eval, df.p_description))\n",
    "X_d = list(map(lambda x: ' '.join(x), eva))\n",
    "\n",
    "eva = list(map(eval, df.p_content))\n",
    "flattened_eva = list(map(lambda x: list(chain(*x)), eva))\n",
    "X_c = list(map(lambda x: ' '.join(x), flattened_eva))"
   ]
  },
  {
   "cell_type": "code",
   "execution_count": 75,
   "metadata": {},
   "outputs": [],
   "source": [
    "# methods\n",
    "count_v = CountVectorizer()\n",
    "one_hot = OneHotEncoder(categories=[t for description in df.p_description for t in description])\n",
    "tfidf = TfidfVectorizer(max_features = 20,\n",
    "                                use_idf = True,\n",
    "                                stop_words = 'english',\n",
    "                                tokenizer = word_tokenize)\n",
    "\n",
    "methods = {'tfidf':tfidf, 'count_v':count_v} #'one_hot':one_hot\n",
    "\n",
    "# number of clusters\n",
    "cluster_numbers =  [2,6]\n",
    "labels_n_clusters = [(2, y_2), (6, y_6)]"
   ]
  },
  {
   "source": [
    "## Part 1\n",
    "Define a function to train a clustering algorithm on some data using N clusters and some input representation method M (tokens, token frequency and tf-idf).\n",
    "Data, M and N should be parameters of that function."
   ],
   "cell_type": "markdown",
   "metadata": {}
  },
  {
   "cell_type": "code",
   "execution_count": 76,
   "metadata": {},
   "outputs": [],
   "source": [
    "def train_cluster(data, n_clusters, method = tfidf):\n",
    "    vectorised_input = method.fit_transform(data)\n",
    "\n",
    "    km = KMeans(n_clusters)\n",
    "    km.fit(vectorised_input)\n",
    "    return km, vectorised_input"
   ]
  },
  {
   "cell_type": "code",
   "execution_count": 77,
   "metadata": {},
   "outputs": [],
   "source": [
    "clusters, vectorised_input = train_cluster(data=X_d, n_clusters=2, method = tfidf)"
   ]
  },
  {
   "source": [
    "## Part 2\n",
    "Define a function to compute both intrinsic (Silhouette coefficient) and extrinsic (homogeneity, completeness, v-measure, adjusted Rand index) evaluation scores for clustering results."
   ],
   "cell_type": "markdown",
   "metadata": {}
  },
  {
   "cell_type": "code",
   "execution_count": 78,
   "metadata": {},
   "outputs": [],
   "source": [
    "def compute_scores(labels, clustering, vectorised_input):\n",
    "    # When a ground truth is available \n",
    "\n",
    "    homo = (metrics.homogeneity_score(labels, clustering)) \n",
    "    comp = (metrics.completeness_score(labels, clustering)) \n",
    "    v_m = (metrics.v_measure_score(labels, clustering)) \n",
    "    ari = (metrics.adjusted_rand_score(labels, clustering)) \n",
    "\n",
    "    # When no ground truth is available \n",
    "\n",
    "    silh = (metrics.silhouette_score(vectorised_input, clustering, sample_size=1000))\n",
    "\n",
    "    return homo, comp, v_m, ari, silh\n",
    "    "
   ]
  },
  {
   "cell_type": "code",
   "execution_count": 79,
   "metadata": {},
   "outputs": [
    {
     "output_type": "execute_result",
     "data": {
      "text/plain": [
       "(0.13216336409604673,\n",
       " 0.2167179884207683,\n",
       " 0.1641943784223112,\n",
       " 0.07452366180212745,\n",
       " 0.1423724495436247)"
      ]
     },
     "metadata": {},
     "execution_count": 79
    }
   ],
   "source": [
    "compute_scores(labels=y_2, clustering=clusters.labels_, vectorised_input=vectorised_input)\n",
    "#\t2\ttfidf\t0.148189\t0.261583\t0.189197\t0.068706\t0.040668"
   ]
  },
  {
   "cell_type": "code",
   "execution_count": 93,
   "metadata": {},
   "outputs": [],
   "source": [
    "metric_names = 'homogeneity, completeness, v_measure, adjusted_rand_index, silhouette_coef'.split(', ')"
   ]
  },
  {
   "cell_type": "code",
   "execution_count": 81,
   "metadata": {},
   "outputs": [],
   "source": [
    "#Create dataframe with scores\n",
    "\n",
    "\n",
    "data = pd.DataFrame(columns=['n_clusters','method',*scores])\n",
    "\n",
    "for n_clusters, labels in labels_n_clusters:\n",
    "    for name,method in methods.items():\n",
    "\n",
    "        clusters, vectorised_input = train_cluster(data=X_d,                                           \n",
    "                                                    n_clusters=n_clusters,\n",
    "                                                    method=method)\n",
    "        scores = compute_scores(labels=labels,\n",
    "                                clustering=clusters.labels_,\n",
    "                                vectorised_input=vectorised_input)\n",
    "\n",
    "\n",
    "        new_row = []\n",
    "        new_row.append(n_clusters)\n",
    "        new_row.append(name)\n",
    "        new_row.extend(scores)\n",
    "        \n",
    "        data.loc[len(data.n_clusters)] = new_row\n",
    "        "
   ]
  },
  {
   "cell_type": "code",
   "execution_count": 82,
   "metadata": {},
   "outputs": [
    {
     "output_type": "execute_result",
     "data": {
      "text/plain": [
       "  n_clusters   method  homogeneity  completeness  v_measure  \\\n",
       "0          2    tfidf     0.132163      0.216718   0.164194   \n",
       "1          2  count_v     0.033724      0.044129   0.038231   \n",
       "2          6    tfidf     0.633189      0.676642   0.654195   \n",
       "3          6  count_v     0.544600      0.673304   0.602151   \n",
       "\n",
       "   adjusted_rand_index  silhouette_coef  \n",
       "0             0.074524         0.142372  \n",
       "1             0.027850         0.064141  \n",
       "2             0.482267         0.317671  \n",
       "3             0.389701         0.091939  "
      ],
      "text/html": "<div>\n<style scoped>\n    .dataframe tbody tr th:only-of-type {\n        vertical-align: middle;\n    }\n\n    .dataframe tbody tr th {\n        vertical-align: top;\n    }\n\n    .dataframe thead th {\n        text-align: right;\n    }\n</style>\n<table border=\"1\" class=\"dataframe\">\n  <thead>\n    <tr style=\"text-align: right;\">\n      <th></th>\n      <th>n_clusters</th>\n      <th>method</th>\n      <th>homogeneity</th>\n      <th>completeness</th>\n      <th>v_measure</th>\n      <th>adjusted_rand_index</th>\n      <th>silhouette_coef</th>\n    </tr>\n  </thead>\n  <tbody>\n    <tr>\n      <th>0</th>\n      <td>2</td>\n      <td>tfidf</td>\n      <td>0.132163</td>\n      <td>0.216718</td>\n      <td>0.164194</td>\n      <td>0.074524</td>\n      <td>0.142372</td>\n    </tr>\n    <tr>\n      <th>1</th>\n      <td>2</td>\n      <td>count_v</td>\n      <td>0.033724</td>\n      <td>0.044129</td>\n      <td>0.038231</td>\n      <td>0.027850</td>\n      <td>0.064141</td>\n    </tr>\n    <tr>\n      <th>2</th>\n      <td>6</td>\n      <td>tfidf</td>\n      <td>0.633189</td>\n      <td>0.676642</td>\n      <td>0.654195</td>\n      <td>0.482267</td>\n      <td>0.317671</td>\n    </tr>\n    <tr>\n      <th>3</th>\n      <td>6</td>\n      <td>count_v</td>\n      <td>0.544600</td>\n      <td>0.673304</td>\n      <td>0.602151</td>\n      <td>0.389701</td>\n      <td>0.091939</td>\n    </tr>\n  </tbody>\n</table>\n</div>"
     },
     "metadata": {},
     "execution_count": 82
    }
   ],
   "source": [
    "data.head()"
   ]
  },
  {
   "source": [
    "## Part 3\n",
    "Define a function to visualise those metrics values for each of the three input representations (tokens, token frequency and tf-id) and for 2 vs. 6 clusters (so your visualisation should display 5 scores for each of the 6 clustering results)"
   ],
   "cell_type": "markdown",
   "metadata": {}
  },
  {
   "cell_type": "code",
   "execution_count": 83,
   "metadata": {},
   "outputs": [],
   "source": [
    "import pandas as pd\n",
    "import seaborn as sns\n",
    "from matplotlib import pyplot as plt\n",
    "sns.set()"
   ]
  },
  {
   "cell_type": "code",
   "execution_count": 96,
   "metadata": {},
   "outputs": [],
   "source": [
    "def visualise_metrics(data, scores):\n",
    "    sns.set_theme(style=\"whitegrid\", color_codes=True)\n",
    "    # Draw a nested barplot by number of clusters and method\n",
    "    for metric_name in metric_names:\n",
    "        g = sns.catplot(\n",
    "            data=data, kind='bar',\n",
    "            x='n_clusters', y=metric_name, hue='method',\n",
    "            palette=\"dark\", alpha=.6, height=6\n",
    "        )\n",
    "\n",
    "        g.despine(left=True)\n",
    "        g.set_axis_labels(\"Number of Clusters\", metric_name)\n",
    "        g.legend.set_title(\"Methods\")"
   ]
  },
  {
   "cell_type": "code",
   "execution_count": 88,
   "metadata": {},
   "outputs": [
    {
     "output_type": "error",
     "ename": "AttributeError",
     "evalue": "'bool' object has no attribute 'all'",
     "traceback": [
      "\u001b[0;31m---------------------------------------------------------------------------\u001b[0m",
      "\u001b[0;31mAttributeError\u001b[0m                            Traceback (most recent call last)",
      "\u001b[0;32m<ipython-input-88-e6e942524c13>\u001b[0m in \u001b[0;36m<module>\u001b[0;34m\u001b[0m\n\u001b[0;32m----> 1\u001b[0;31m \u001b[0mvisualise_metrics\u001b[0m\u001b[0;34m(\u001b[0m\u001b[0mdata\u001b[0m\u001b[0;34m=\u001b[0m\u001b[0mdata\u001b[0m\u001b[0;34m,\u001b[0m \u001b[0mscores\u001b[0m\u001b[0;34m=\u001b[0m\u001b[0mscores\u001b[0m\u001b[0;34m)\u001b[0m\u001b[0;34m\u001b[0m\u001b[0;34m\u001b[0m\u001b[0m\n\u001b[0m",
      "\u001b[0;32m<ipython-input-87-9e3217c8702c>\u001b[0m in \u001b[0;36mvisualise_metrics\u001b[0;34m(data, scores)\u001b[0m\n\u001b[1;32m      3\u001b[0m     \u001b[0;31m# Draw a nested barplot by number of clusters and method\u001b[0m\u001b[0;34m\u001b[0m\u001b[0;34m\u001b[0m\u001b[0;34m\u001b[0m\u001b[0m\n\u001b[1;32m      4\u001b[0m     \u001b[0;32mfor\u001b[0m \u001b[0mscore\u001b[0m \u001b[0;32min\u001b[0m \u001b[0mscores\u001b[0m\u001b[0;34m:\u001b[0m\u001b[0;34m\u001b[0m\u001b[0;34m\u001b[0m\u001b[0m\n\u001b[0;32m----> 5\u001b[0;31m         g = sns.catplot(\n\u001b[0m\u001b[1;32m      6\u001b[0m             \u001b[0mdata\u001b[0m\u001b[0;34m=\u001b[0m\u001b[0mdata\u001b[0m\u001b[0;34m,\u001b[0m \u001b[0mkind\u001b[0m\u001b[0;34m=\u001b[0m\u001b[0;34m'bar'\u001b[0m\u001b[0;34m,\u001b[0m\u001b[0;34m\u001b[0m\u001b[0;34m\u001b[0m\u001b[0m\n\u001b[1;32m      7\u001b[0m             \u001b[0mx\u001b[0m\u001b[0;34m=\u001b[0m\u001b[0;34m'n_clusters'\u001b[0m\u001b[0;34m,\u001b[0m \u001b[0my\u001b[0m\u001b[0;34m=\u001b[0m\u001b[0mscore\u001b[0m\u001b[0;34m,\u001b[0m \u001b[0mhue\u001b[0m\u001b[0;34m=\u001b[0m\u001b[0;34m'method'\u001b[0m\u001b[0;34m,\u001b[0m\u001b[0;34m\u001b[0m\u001b[0;34m\u001b[0m\u001b[0m\n",
      "\u001b[0;32m~/github/clustering-and-classifying-people/env/lib/python3.9/site-packages/seaborn/_decorators.py\u001b[0m in \u001b[0;36minner_f\u001b[0;34m(*args, **kwargs)\u001b[0m\n\u001b[1;32m     44\u001b[0m             )\n\u001b[1;32m     45\u001b[0m         \u001b[0mkwargs\u001b[0m\u001b[0;34m.\u001b[0m\u001b[0mupdate\u001b[0m\u001b[0;34m(\u001b[0m\u001b[0;34m{\u001b[0m\u001b[0mk\u001b[0m\u001b[0;34m:\u001b[0m \u001b[0marg\u001b[0m \u001b[0;32mfor\u001b[0m \u001b[0mk\u001b[0m\u001b[0;34m,\u001b[0m \u001b[0marg\u001b[0m \u001b[0;32min\u001b[0m \u001b[0mzip\u001b[0m\u001b[0;34m(\u001b[0m\u001b[0msig\u001b[0m\u001b[0;34m.\u001b[0m\u001b[0mparameters\u001b[0m\u001b[0;34m,\u001b[0m \u001b[0margs\u001b[0m\u001b[0;34m)\u001b[0m\u001b[0;34m}\u001b[0m\u001b[0;34m)\u001b[0m\u001b[0;34m\u001b[0m\u001b[0;34m\u001b[0m\u001b[0m\n\u001b[0;32m---> 46\u001b[0;31m         \u001b[0;32mreturn\u001b[0m \u001b[0mf\u001b[0m\u001b[0;34m(\u001b[0m\u001b[0;34m**\u001b[0m\u001b[0mkwargs\u001b[0m\u001b[0;34m)\u001b[0m\u001b[0;34m\u001b[0m\u001b[0;34m\u001b[0m\u001b[0m\n\u001b[0m\u001b[1;32m     47\u001b[0m     \u001b[0;32mreturn\u001b[0m \u001b[0minner_f\u001b[0m\u001b[0;34m\u001b[0m\u001b[0;34m\u001b[0m\u001b[0m\n\u001b[1;32m     48\u001b[0m \u001b[0;34m\u001b[0m\u001b[0m\n",
      "\u001b[0;32m~/github/clustering-and-classifying-people/env/lib/python3.9/site-packages/seaborn/categorical.py\u001b[0m in \u001b[0;36mcatplot\u001b[0;34m(x, y, hue, data, row, col, col_wrap, estimator, ci, n_boot, units, seed, order, hue_order, row_order, col_order, kind, height, aspect, orient, color, palette, legend, legend_out, sharex, sharey, margin_titles, facet_kws, **kwargs)\u001b[0m\n\u001b[1;32m   3787\u001b[0m     \u001b[0mp\u001b[0m \u001b[0;34m=\u001b[0m \u001b[0m_CategoricalPlotter\u001b[0m\u001b[0;34m(\u001b[0m\u001b[0;34m)\u001b[0m\u001b[0;34m\u001b[0m\u001b[0;34m\u001b[0m\u001b[0m\n\u001b[1;32m   3788\u001b[0m     \u001b[0mp\u001b[0m\u001b[0;34m.\u001b[0m\u001b[0mrequire_numeric\u001b[0m \u001b[0;34m=\u001b[0m \u001b[0mplotter_class\u001b[0m\u001b[0;34m.\u001b[0m\u001b[0mrequire_numeric\u001b[0m\u001b[0;34m\u001b[0m\u001b[0;34m\u001b[0m\u001b[0m\n\u001b[0;32m-> 3789\u001b[0;31m     \u001b[0mp\u001b[0m\u001b[0;34m.\u001b[0m\u001b[0mestablish_variables\u001b[0m\u001b[0;34m(\u001b[0m\u001b[0mx_\u001b[0m\u001b[0;34m,\u001b[0m \u001b[0my_\u001b[0m\u001b[0;34m,\u001b[0m \u001b[0mhue\u001b[0m\u001b[0;34m,\u001b[0m \u001b[0mdata\u001b[0m\u001b[0;34m,\u001b[0m \u001b[0morient\u001b[0m\u001b[0;34m,\u001b[0m \u001b[0morder\u001b[0m\u001b[0;34m,\u001b[0m \u001b[0mhue_order\u001b[0m\u001b[0;34m)\u001b[0m\u001b[0;34m\u001b[0m\u001b[0;34m\u001b[0m\u001b[0m\n\u001b[0m\u001b[1;32m   3790\u001b[0m     if (\n\u001b[1;32m   3791\u001b[0m         \u001b[0morder\u001b[0m \u001b[0;32mis\u001b[0m \u001b[0;32mnot\u001b[0m \u001b[0;32mNone\u001b[0m\u001b[0;34m\u001b[0m\u001b[0;34m\u001b[0m\u001b[0m\n",
      "\u001b[0;32m~/github/clustering-and-classifying-people/env/lib/python3.9/site-packages/seaborn/categorical.py\u001b[0m in \u001b[0;36mestablish_variables\u001b[0;34m(self, x, y, hue, data, orient, order, hue_order, units)\u001b[0m\n\u001b[1;32m    154\u001b[0m \u001b[0;34m\u001b[0m\u001b[0m\n\u001b[1;32m    155\u001b[0m             \u001b[0;31m# Figure out the plotting orientation\u001b[0m\u001b[0;34m\u001b[0m\u001b[0;34m\u001b[0m\u001b[0;34m\u001b[0m\u001b[0m\n\u001b[0;32m--> 156\u001b[0;31m             orient = infer_orient(\n\u001b[0m\u001b[1;32m    157\u001b[0m                 \u001b[0mx\u001b[0m\u001b[0;34m,\u001b[0m \u001b[0my\u001b[0m\u001b[0;34m,\u001b[0m \u001b[0morient\u001b[0m\u001b[0;34m,\u001b[0m \u001b[0mrequire_numeric\u001b[0m\u001b[0;34m=\u001b[0m\u001b[0mself\u001b[0m\u001b[0;34m.\u001b[0m\u001b[0mrequire_numeric\u001b[0m\u001b[0;34m\u001b[0m\u001b[0;34m\u001b[0m\u001b[0m\n\u001b[1;32m    158\u001b[0m             )\n",
      "\u001b[0;32m~/github/clustering-and-classifying-people/env/lib/python3.9/site-packages/seaborn/_core.py\u001b[0m in \u001b[0;36minfer_orient\u001b[0;34m(x, y, orient, require_numeric)\u001b[0m\n\u001b[1;32m   1303\u001b[0m \u001b[0;34m\u001b[0m\u001b[0m\n\u001b[1;32m   1304\u001b[0m     \u001b[0mx_type\u001b[0m \u001b[0;34m=\u001b[0m \u001b[0;32mNone\u001b[0m \u001b[0;32mif\u001b[0m \u001b[0mx\u001b[0m \u001b[0;32mis\u001b[0m \u001b[0;32mNone\u001b[0m \u001b[0;32melse\u001b[0m \u001b[0mvariable_type\u001b[0m\u001b[0;34m(\u001b[0m\u001b[0mx\u001b[0m\u001b[0;34m)\u001b[0m\u001b[0;34m\u001b[0m\u001b[0;34m\u001b[0m\u001b[0m\n\u001b[0;32m-> 1305\u001b[0;31m     \u001b[0my_type\u001b[0m \u001b[0;34m=\u001b[0m \u001b[0;32mNone\u001b[0m \u001b[0;32mif\u001b[0m \u001b[0my\u001b[0m \u001b[0;32mis\u001b[0m \u001b[0;32mNone\u001b[0m \u001b[0;32melse\u001b[0m \u001b[0mvariable_type\u001b[0m\u001b[0;34m(\u001b[0m\u001b[0my\u001b[0m\u001b[0;34m)\u001b[0m\u001b[0;34m\u001b[0m\u001b[0;34m\u001b[0m\u001b[0m\n\u001b[0m\u001b[1;32m   1306\u001b[0m \u001b[0;34m\u001b[0m\u001b[0m\n\u001b[1;32m   1307\u001b[0m     \u001b[0mnonnumeric_dv_error\u001b[0m \u001b[0;34m=\u001b[0m \u001b[0;34m\"{} orientation requires numeric `{}` variable.\"\u001b[0m\u001b[0;34m\u001b[0m\u001b[0;34m\u001b[0m\u001b[0m\n",
      "\u001b[0;32m~/github/clustering-and-classifying-people/env/lib/python3.9/site-packages/seaborn/_core.py\u001b[0m in \u001b[0;36mvariable_type\u001b[0;34m(vector, boolean_type)\u001b[0m\n\u001b[1;32m   1220\u001b[0m \u001b[0;34m\u001b[0m\u001b[0m\n\u001b[1;32m   1221\u001b[0m     \u001b[0;31m# Special-case all-na data, which is always \"numeric\"\u001b[0m\u001b[0;34m\u001b[0m\u001b[0;34m\u001b[0m\u001b[0;34m\u001b[0m\u001b[0m\n\u001b[0;32m-> 1222\u001b[0;31m     \u001b[0;32mif\u001b[0m \u001b[0mpd\u001b[0m\u001b[0;34m.\u001b[0m\u001b[0misna\u001b[0m\u001b[0;34m(\u001b[0m\u001b[0mvector\u001b[0m\u001b[0;34m)\u001b[0m\u001b[0;34m.\u001b[0m\u001b[0mall\u001b[0m\u001b[0;34m(\u001b[0m\u001b[0;34m)\u001b[0m\u001b[0;34m:\u001b[0m\u001b[0;34m\u001b[0m\u001b[0;34m\u001b[0m\u001b[0m\n\u001b[0m\u001b[1;32m   1223\u001b[0m         \u001b[0;32mreturn\u001b[0m \u001b[0;34m\"numeric\"\u001b[0m\u001b[0;34m\u001b[0m\u001b[0;34m\u001b[0m\u001b[0m\n\u001b[1;32m   1224\u001b[0m \u001b[0;34m\u001b[0m\u001b[0m\n",
      "\u001b[0;31mAttributeError\u001b[0m: 'bool' object has no attribute 'all'"
     ]
    }
   ],
   "source": [
    "visualise_metrics(data=data, scores=scores)"
   ]
  },
  {
   "cell_type": "code",
   "execution_count": null,
   "metadata": {},
   "outputs": [],
   "source": []
  }
 ]
}