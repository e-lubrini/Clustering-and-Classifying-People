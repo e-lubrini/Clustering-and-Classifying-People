{
 "metadata": {
  "language_info": {
   "codemirror_mode": {
    "name": "ipython",
    "version": 3
   },
   "file_extension": ".py",
   "mimetype": "text/x-python",
   "name": "python",
   "nbconvert_exporter": "python",
   "pygments_lexer": "ipython3",
   "version": "3.9.2-final"
  },
  "orig_nbformat": 2,
  "kernelspec": {
   "name": "python3",
   "display_name": "Python 3"
  }
 },
 "nbformat": 4,
 "nbformat_minor": 2,
 "cells": [
  {
   "source": [
    "# Preprocessing\n",
    "* For each Wikipedia text and Wikidata description collected:\n",
    "\n",
    "    tokenise the text, lowercase the tokens, remove function words\n",
    "\n",
    "* Store the results in a pandas dataframe containing 5 columns:\n",
    "\n",
    "    person, Wikipedia page text, Wikipedia page text after preprocessing, Wikidata description, Wikidata description after preprocessing\n",
    "\n",
    "Note. To improve clustering and classification results, feel free to\n",
    "add further pre-processing steps (eg Named entity recognition, postagging and extraction of e.g., nouns and verbs)."
   ],
   "cell_type": "markdown",
   "metadata": {}
  },
  {
   "cell_type": "code",
   "execution_count": 7,
   "metadata": {},
   "outputs": [
    {
     "output_type": "stream",
     "name": "stderr",
     "text": [
      "[nltk_data] Downloading package stopwords to /home/elisa/nltk_data...\n[nltk_data]   Package stopwords is already up-to-date!\n"
     ]
    },
    {
     "output_type": "execute_result",
     "data": {
      "text/plain": [
       "True"
      ]
     },
     "metadata": {},
     "execution_count": 7
    }
   ],
   "source": [
    "import json\n",
    "import nltk\n",
    "import string\n",
    "import pandas as pd\n",
    "\n",
    "from nltk.corpus import stopwords \n",
    "nltk.download('stopwords')"
   ]
  },
  {
   "cell_type": "code",
   "execution_count": 8,
   "metadata": {},
   "outputs": [],
   "source": [
    "def segment_and_tokenize(string):\n",
    "    # Sentence splitting\n",
    "    sentences = nltk.sent_tokenize(string)\n",
    "    \n",
    "    # tokenizing \n",
    "    tokenised_s = list(map(nltk.word_tokenize, sentences))\n",
    "\n",
    "    return tokenised_s"
   ]
  },
  {
   "cell_type": "code",
   "execution_count": 9,
   "metadata": {},
   "outputs": [],
   "source": [
    "def tokenize(sent):\n",
    "    \n",
    "    # tokenizing \n",
    "    tokenised_s = nltk.word_tokenize(sent)\n",
    "\n",
    "    #print('Tokenised:', tokenised_s)\n",
    "\n",
    "    return tokenised_s"
   ]
  },
  {
   "cell_type": "code",
   "execution_count": 10,
   "metadata": {
    "tags": []
   },
   "outputs": [],
   "source": [
    "# Define a translation table that maps each punctuation sign to the empty string\n",
    "punct_removed = str.maketrans('','',string.punctuation)\n",
    "\n",
    "# Define a function which segments, tokenizes and removes punctuation signs\n",
    "def tokenize_no_punct(s):\n",
    "    \n",
    "    s = s.translate(punct_removed)\n",
    "\n",
    "    # tokenizing \n",
    "    tokenised_s = segment_and_tokenize(s)\n",
    "\n",
    "    #print('Tokenised without punctuation:', tokenised_s[:10])\n",
    "\n",
    "    return tokenised_s"
   ]
  },
  {
   "cell_type": "code",
   "execution_count": 11,
   "metadata": {},
   "outputs": [],
   "source": [
    "# lower case tokens and remove punctuation\n",
    "\n",
    "def lower_case(c):\n",
    "    return tokenize_no_punct(c.lower())"
   ]
  },
  {
   "cell_type": "code",
   "execution_count": 12,
   "metadata": {},
   "outputs": [],
   "source": [
    "# remove function words\n",
    "\n",
    "def preprocess(c):\n",
    "    stop_words = set(stopwords.words('english'))\n",
    "    \n",
    "    lower_s = lower_case(c)\n",
    "\n",
    "    no_stopw_c = [t for s in lower_s for t in s if t not in stop_words]\n",
    "\n",
    "    #print('Preprocessed: ', no_stopw_c[:10])\n",
    "\n",
    "    return no_stopw_c"
   ]
  },
  {
   "cell_type": "code",
   "execution_count": 26,
   "metadata": {
    "tags": []
   },
   "outputs": [
    {
     "output_type": "stream",
     "name": "stdout",
     "text": [
      "▶ cat: A\n",
      "▶ keyw: singer\n",
      "▶ keyw: writer\n",
      "▶ keyw: painter\n",
      "▶ cat: Z\n",
      "▶ keyw: architect\n",
      "▶ keyw: politician\n",
      "▶ keyw: mathematician\n"
     ]
    }
   ],
   "source": [
    "with open('data.json', 'r') as f:\n",
    "    data = json.load(f)\n",
    "\n",
    "for cat,v in data.items():\n",
    "    print('▶ cat:', cat)\n",
    "    for keyw,articles in v.items():\n",
    "        print('▶ keyw:', keyw)\n",
    "        for art in articles:\n",
    "            art['p_content'] = []\n",
    "            if art['description'] is not None: # TODO BLOCK NONEs IN CORPUS EXTRACTION \n",
    "                art['p_description'] = preprocess(art['description'])            \n",
    "            art['p_content'].append(preprocess(art['content']))"
   ]
  },
  {
   "cell_type": "code",
   "execution_count": 39,
   "metadata": {},
   "outputs": [
    {
     "output_type": "execute_result",
     "data": {
      "text/plain": [
       "['american', 'singersongwriter']"
      ]
     },
     "metadata": {},
     "execution_count": 39
    }
   ],
   "source": [
    "data['A']['singer'][0]['p_description']"
   ]
  },
  {
   "cell_type": "code",
   "execution_count": 30,
   "metadata": {
    "tags": []
   },
   "outputs": [
    {
     "output_type": "error",
     "ename": "KeyError",
     "evalue": "'p_description'",
     "traceback": [
      "\u001b[0;31m---------------------------------------------------------------------------\u001b[0m",
      "\u001b[0;31mKeyError\u001b[0m                                  Traceback (most recent call last)",
      "\u001b[0;32m<ipython-input-30-d802f159da9b>\u001b[0m in \u001b[0;36m<module>\u001b[0;34m\u001b[0m\n\u001b[1;32m     13\u001b[0m             \u001b[0mperson\u001b[0m\u001b[0;34m.\u001b[0m\u001b[0mappend\u001b[0m\u001b[0;34m(\u001b[0m\u001b[0mart\u001b[0m\u001b[0;34m[\u001b[0m\u001b[0;34m'title'\u001b[0m\u001b[0;34m]\u001b[0m\u001b[0;34m)\u001b[0m\u001b[0;34m\u001b[0m\u001b[0;34m\u001b[0m\u001b[0m\n\u001b[1;32m     14\u001b[0m             \u001b[0mdescription\u001b[0m\u001b[0;34m.\u001b[0m\u001b[0mappend\u001b[0m\u001b[0;34m(\u001b[0m\u001b[0mart\u001b[0m\u001b[0;34m[\u001b[0m\u001b[0;34m'description'\u001b[0m\u001b[0;34m]\u001b[0m\u001b[0;34m)\u001b[0m\u001b[0;34m\u001b[0m\u001b[0;34m\u001b[0m\u001b[0m\n\u001b[0;32m---> 15\u001b[0;31m             \u001b[0mp_description\u001b[0m\u001b[0;34m.\u001b[0m\u001b[0mappend\u001b[0m\u001b[0;34m(\u001b[0m\u001b[0mart\u001b[0m\u001b[0;34m[\u001b[0m\u001b[0;34m'p_description'\u001b[0m\u001b[0;34m]\u001b[0m\u001b[0;34m)\u001b[0m\u001b[0;34m\u001b[0m\u001b[0;34m\u001b[0m\u001b[0m\n\u001b[0m\u001b[1;32m     16\u001b[0m             \u001b[0mcontent\u001b[0m\u001b[0;34m.\u001b[0m\u001b[0mappend\u001b[0m\u001b[0;34m(\u001b[0m\u001b[0mart\u001b[0m\u001b[0;34m[\u001b[0m\u001b[0;34m'content'\u001b[0m\u001b[0;34m]\u001b[0m\u001b[0;34m)\u001b[0m\u001b[0;34m\u001b[0m\u001b[0;34m\u001b[0m\u001b[0m\n\u001b[1;32m     17\u001b[0m             \u001b[0mp_content\u001b[0m\u001b[0;34m.\u001b[0m\u001b[0mappend\u001b[0m\u001b[0;34m(\u001b[0m\u001b[0mart\u001b[0m\u001b[0;34m[\u001b[0m\u001b[0;34m'p_content'\u001b[0m\u001b[0;34m]\u001b[0m\u001b[0;34m)\u001b[0m\u001b[0;34m\u001b[0m\u001b[0;34m\u001b[0m\u001b[0m\n",
      "\u001b[0;31mKeyError\u001b[0m: 'p_description'"
     ]
    }
   ],
   "source": [
    "# store in a dataframe\n",
    "#df = pd.DataFrame(columns=['person','description','token_description','content','token_content'])\n",
    "person = []\n",
    "description = []\n",
    "p_description = []\n",
    "content = []\n",
    "p_content = []\n",
    "category = []\n",
    "\n",
    "for cat,v in data.items():\n",
    "    for keyw,articles in v.items():\n",
    "        for art in articles:\n",
    "            person.append(art['title'])\n",
    "            description.append(art['description'])\n",
    "            p_description.append(art['p_description'])\n",
    "            content.append(art['content'])\n",
    "            p_content.append(art['p_content'])\n",
    "            category.append(cat)\n",
    "\n",
    "p_data = dict(person=person,\n",
    "description=description,\n",
    "p_description=p_description,\n",
    "content=content,\n",
    "p_content=p_content,\n",
    "category=category)\n",
    "\n",
    "p_data['category']"
   ]
  },
  {
   "cell_type": "code",
   "execution_count": null,
   "metadata": {},
   "outputs": [],
   "source": [
    "df = pd.DataFrame(p_data)\n",
    "df.head()"
   ]
  }
 ]
}